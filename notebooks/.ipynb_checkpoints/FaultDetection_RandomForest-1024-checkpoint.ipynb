{
 "cells": [
  {
   "cell_type": "code",
   "execution_count": 1,
   "metadata": {},
   "outputs": [],
   "source": [
    "import numpy as np \n",
    "import pandas as pd \n",
    "import os, sys\n",
    "import matplotlib.pyplot as plt\n",
    "from pylab import rcParams\n",
    "\n",
    "from sklearn.model_selection import train_test_split \n",
    "from sklearn.preprocessing import StandardScaler \n",
    "from sklearn.ensemble import RandomForestClassifier \n",
    "from sklearn.metrics import confusion_matrix \n",
    "#from sklearn.externals import joblib\n",
    "import joblib\n",
    " \n",
    "from sklearn import metrics\n",
    "from sklearn.metrics import accuracy_score"
   ]
  },
  {
   "cell_type": "code",
   "execution_count": 2,
   "metadata": {},
   "outputs": [
    {
     "name": "stdout",
     "output_type": "stream",
     "text": [
      "17037 <class 'pandas.core.frame.DataFrame'>\n",
      "['Aout(Faulty)-FFT' 'Aout(Working)-FFT']\n"
     ]
    }
   ],
   "source": [
    "training_file_location = os.path.join(os.environ[\"PWD\"], '../dataset/FaultDetectionFeatures', 'fft-windowsize-1024.csv')\n",
    "\n",
    "\n",
    "training_dataset = pd.read_csv(training_file_location)\n",
    "print(len(training_dataset), type(training_dataset))\n",
    "factor = pd.factorize(training_dataset.iloc[:, -1].values) \n",
    "encoding = factor[0] \n",
    "symbols = factor[1] \n",
    "print(symbols)"
   ]
  },
  {
   "cell_type": "code",
   "execution_count": 3,
   "metadata": {},
   "outputs": [],
   "source": [
    "X = training_dataset.iloc[:,:-1].values\n",
    "y = training_dataset.iloc[:, -1].values\n",
    "\n",
    "# print(X)\n",
    "# print(y)"
   ]
  },
  {
   "cell_type": "code",
   "execution_count": 4,
   "metadata": {},
   "outputs": [],
   "source": [
    "X_train, X_test, y_train, y_test = train_test_split(X, y, test_size = 0.2, random_state = 21) \n",
    "scaler = StandardScaler() \n",
    "X_train = scaler.fit_transform(X_train) \n",
    "X_test = scaler.transform(X_test)"
   ]
  },
  {
   "cell_type": "code",
   "execution_count": 5,
   "metadata": {},
   "outputs": [
    {
     "data": {
      "text/plain": [
       "RandomForestClassifier(criterion='entropy', n_estimators=10, random_state=20)"
      ]
     },
     "execution_count": 5,
     "metadata": {},
     "output_type": "execute_result"
    }
   ],
   "source": [
    "classifier = RandomForestClassifier(n_estimators = 10, criterion = 'entropy', random_state = 20) \n",
    "classifier.fit(X_train, y_train)"
   ]
  },
  {
   "cell_type": "code",
   "execution_count": 6,
   "metadata": {},
   "outputs": [
    {
     "name": "stdout",
     "output_type": "stream",
     "text": [
      "0.9961854460093896\n"
     ]
    },
    {
     "data": {
      "text/html": [
       "<div>\n",
       "<style scoped>\n",
       "    .dataframe tbody tr th:only-of-type {\n",
       "        vertical-align: middle;\n",
       "    }\n",
       "\n",
       "    .dataframe tbody tr th {\n",
       "        vertical-align: top;\n",
       "    }\n",
       "\n",
       "    .dataframe thead th {\n",
       "        text-align: right;\n",
       "    }\n",
       "</style>\n",
       "<table border=\"1\" class=\"dataframe\">\n",
       "  <thead>\n",
       "    <tr style=\"text-align: right;\">\n",
       "      <th>col_0</th>\n",
       "      <th>Aout(Faulty)-FFT</th>\n",
       "      <th>Aout(Working)-FFT</th>\n",
       "    </tr>\n",
       "    <tr>\n",
       "      <th>row_0</th>\n",
       "      <th></th>\n",
       "      <th></th>\n",
       "    </tr>\n",
       "  </thead>\n",
       "  <tbody>\n",
       "    <tr>\n",
       "      <th>Aout(Faulty)-FFT</th>\n",
       "      <td>1.000000</td>\n",
       "      <td>0.000000</td>\n",
       "    </tr>\n",
       "    <tr>\n",
       "      <th>Aout(Working)-FFT</th>\n",
       "      <td>0.008978</td>\n",
       "      <td>0.991022</td>\n",
       "    </tr>\n",
       "  </tbody>\n",
       "</table>\n",
       "</div>"
      ],
      "text/plain": [
       "col_0              Aout(Faulty)-FFT  Aout(Working)-FFT\n",
       "row_0                                                 \n",
       "Aout(Faulty)-FFT           1.000000           0.000000\n",
       "Aout(Working)-FFT          0.008978           0.991022"
      ]
     },
     "execution_count": 6,
     "metadata": {},
     "output_type": "execute_result"
    }
   ],
   "source": [
    "y_pred = classifier.predict(X_test)\n",
    "print(accuracy_score(y_test, y_pred))\n",
    "\n",
    "pd.crosstab(y_test, y_pred, normalize='index')\n",
    " \n",
    "# reversefactor = dict(zip(range(513), symbols)) \n",
    "# y_test = np.vectorize(reversefactor.get)(y_test) \n",
    "# y_pred = np.vectorize(reversefactor.get)(y_pred)\n",
    "\n",
    "# pd.crosstab(y_test, y_pred, rownames=['Actual status'], colnames=['Predicted status'])\n",
    "#print(pd.crosstab(y_test, y_pred, rownames=['Actual status'], colnames=['Predicted status']))\n",
    " \n"
   ]
  },
  {
   "cell_type": "code",
   "execution_count": 7,
   "metadata": {},
   "outputs": [
    {
     "name": "stdout",
     "output_type": "stream",
     "text": [
      "                   precision    recall  f1-score   support\n",
      "\n",
      " Aout(Faulty)-FFT       0.99      1.00      1.00      1960\n",
      "Aout(Working)-FFT       1.00      0.99      1.00      1448\n",
      "\n",
      "         accuracy                           1.00      3408\n",
      "        macro avg       1.00      1.00      1.00      3408\n",
      "     weighted avg       1.00      1.00      1.00      3408\n",
      "\n"
     ]
    }
   ],
   "source": [
    "print(metrics.classification_report(y_test, y_pred))"
   ]
  },
  {
   "cell_type": "code",
   "execution_count": 8,
   "metadata": {},
   "outputs": [
    {
     "data": {
      "text/plain": [
       "<sklearn.metrics._plot.confusion_matrix.ConfusionMatrixDisplay at 0x7f1480ae4d60>"
      ]
     },
     "execution_count": 8,
     "metadata": {},
     "output_type": "execute_result"
    },
    {
     "data": {
      "image/png": "[encoded data removed]",
      "text/plain": [
       "<Figure size 432x288 with 2 Axes>"
      ]
     },
     "metadata": {
      "needs_background": "light"
     },
     "output_type": "display_data"
    }
   ],
   "source": [
    "metrics.plot_confusion_matrix(classifier, X_test, y_test, xticks_rotation='vertical', normalize='true')"
   ]
  }
 ],
 "metadata": {
  "kernelspec": {
   "display_name": "Python 3",
   "language": "python",
   "name": "python3"
  },
  "language_info": {
   "codemirror_mode": {
    "name": "ipython",
    "version": 3
   },
   "file_extension": ".py",
   "mimetype": "text/x-python",
   "name": "python",
   "nbconvert_exporter": "python",
   "pygments_lexer": "ipython3",
   "version": "3.8.5"
  }
 },
 "nbformat": 4,
 "nbformat_minor": 4
}
